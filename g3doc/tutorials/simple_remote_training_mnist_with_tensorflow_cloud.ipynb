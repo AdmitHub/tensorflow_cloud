{
  "cells": [
    {
      "cell_type": "markdown",
      "metadata": {
        "id": "cIG5d4Kvls6m"
      },
      "source": [
        "##### Copyright 2021 The TensorFlow Cloud Authors.\n"
      ]
    },
    {
      "cell_type": "code",
      "execution_count": null,
      "metadata": {
        "cellView": "form",
        "id": "eR70XKMMmC8I"
      },
      "outputs": [],
      "source": [
        "#@title Licensed under the Apache License, Version 2.0 (the \"License\");\n",
        "# you may not use this file except in compliance with the License.\n",
        "# You may obtain a copy of the License at\n",
        "#\n",
        "# https://www.apache.org/licenses/LICENSE-2.0\n",
        "#\n",
        "# Unless required by applicable law or agreed to in writing, software\n",
        "# distributed under the License is distributed on an \"AS IS\" BASIS,\n",
        "# WITHOUT WARRANTIES OR CONDITIONS OF ANY KIND, either express or implied.\n",
        "# See the License for the specific language governing permissions and\n",
        "# limitations under the License."
      ]
    },
    {
      "cell_type": "markdown",
      "metadata": {
        "id": "PRgkg_PlTviL"
      },
      "source": [
        "# Remote training MNIST with tensorflow_cloud and Google Cloud\n",
        "\n",
        "This example is a simple introductory example to demonstrate how to train a model remotely using [tensorflow_cloud](https://github.com/tensorflow/cloud) and Google Cloud Platform.\n",
        "\n",
        "\u003ctable class=\"tfo-notebook-buttons\" align=\"left\"\u003e\n",
        "  \u003ctd\u003e\n",
        "    \u003ca target=\"_blank\" href=\"https://www.tensorflow.org/cloud/tutorials/simple_remote_training_mnist_with_tensorflow_cloud.ipynb\"\u003e\u003cimg src=\"https://www.tensorflow.org/images/tf_logo_32px.png\" /\u003eView on TensorFlow.org\u003c/a\u003e\n",
        "  \u003c/td\u003e\n",
        "  \u003ctd\u003e\n",
        "    \u003ca target=\"_blank\" href=\"https://colab.research.google.com/github/tensorflow/cloud/blob/master/g3doc/tutorials/simple_remote_training_mnist_with_tensorflow_cloud.ipynb\"\"\u003e\u003cimg src=\"https://www.tensorflow.org/images/colab_logo_32px.png\" /\u003eRun in Google Colab\u003c/a\u003e\n",
        "  \u003c/td\u003e\n",
        "  \u003ctd\u003e\n",
        "    \u003ca target=\"_blank\" href=\"https://github.com/tensorflow/cloud/blob/master/g3doc/tutorials/simple_remote_training_mnist_with_tensorflow_cloud.ipynb\"\u003e\u003cimg src=\"https://www.tensorflow.org/images/GitHub-Mark-32px.png\" /\u003eView on GitHub\u003c/a\u003e\n",
        "  \u003c/td\u003e\n",
        "  \u003ctd\u003e\n",
        "    \u003ca href=\"https://storage.googleapis.com/tensorflow_docs/cloud/tutorials/distributed_training_nasnet_with_tensorflow_cloud.ipynb\"\u003e\u003cimg src=\"https://www.tensorflow.org/images/download_logo_32px.png\" /\u003eDownload notebook\u003c/a\u003e\n",
        "  \u003c/td\u003e\n",
        "\u003c/table\u003e\n"
      ]
    },
    {
      "cell_type": "markdown",
      "metadata": {
        "id": "nAMlgVLkA_1A"
      },
      "source": [
        "## Import required modules"
      ]
    },
    {
      "cell_type": "code",
      "execution_count": null,
      "metadata": {
        "id": "kA1D8jB3TviQ"
      },
      "outputs": [],
      "source": [
        "import os\n",
        "import sys\n",
        "import tensorflow as tf\n",
        "import subprocess\n",
        "\n",
        "# Install latest version of tensorflow_cloud\n",
        "if os.environ.get(\"TF_KERAS_RUNNING_REMOTELY\", True):\n",
        "    subprocess.run(\n",
        "        ['python3', '-m', 'pip', 'install', 'tensorflow-cloud', '-q'])\n",
        "\n",
        "import tensorflow_cloud as tfc\n",
        "print(tfc.__version__)"
      ]
    },
    {
      "cell_type": "markdown",
      "metadata": {
        "id": "vdLn2dl2TviR"
      },
      "source": [
        "## Project Configurations\n",
        "Set project parameters. For Google Cloud Specific parameters refer to [Google Cloud Project Setup Instructions](https://www.kaggle.com/nitric/google-cloud-project-setup-instructions/)."
      ]
    },
    {
      "cell_type": "code",
      "execution_count": null,
      "metadata": {
        "id": "b2Ev1lz-TviR"
      },
      "outputs": [],
      "source": [
        "# Set Google Cloud Specific parameters\n",
        "\n",
        "# TODO: Please set GCP_PROJECT_ID to your own Google Cloud project ID.\n",
        "GCP_PROJECT_ID = 'YOUR_PROJECT_ID' #@param {type:\"string\"}\n",
        "\n",
        "# TODO: set GCS_BUCKET to your own Google Cloud Storage (GCS) bucket.\n",
        "GCS_BUCKET = 'YOUR_GCS_BUCKET_NAME' #@param {type:\"string\"}\n",
        "\n",
        "# DO NOT CHANGE: Currently only the 'us-central1' region is supported.\n",
        "REGION = 'us-central1'\n",
        "\n",
        "# OPTIONAL: You can change the job name to any string.\n",
        "JOB_NAME = 'mnist' #@param {type:\"string\"}\n",
        "\n",
        "# Setting location were training logs and checkpoints will be stored\n",
        "GCS_BASE_PATH = f'gs://{GCS_BUCKET}/{JOB_NAME}'\n",
        "TENSORBOARD_LOGS_DIR = os.path.join(GCS_BASE_PATH,\"logs\")\n",
        "MODEL_CHECKPOINT_DIR = os.path.join(GCS_BASE_PATH,\"checkpoints\")\n",
        "SAVED_MODEL_DIR = os.path.join(GCS_BASE_PATH,\"saved_model\")"
      ]
    },
    {
      "cell_type": "markdown",
      "metadata": {
        "id": "KQ4B0XjaTviR"
      },
      "source": [
        "## Authenticating the notebook to use your Google Cloud Project\n",
        "\n",
        "For Kaggle Notebooks click on \"Add-ons\"-\u003e\"Google Cloud SDK\" before running the cell below."
      ]
    },
    {
      "cell_type": "code",
      "execution_count": null,
      "metadata": {
        "id": "vZp9qc3STviS"
      },
      "outputs": [],
      "source": [
        "# Using tfc.remote() to ensure this code only runs in notebook\n",
        "if not tfc.remote():\n",
        "\n",
        "    # Authentication for Kaggle Notebooks\n",
        "    if \"kaggle_secrets\" in sys.modules:\n",
        "        from kaggle_secrets import UserSecretsClient\n",
        "        UserSecretsClient().set_gcloud_credentials(project=GCP_PROJECT_ID)\n",
        "\n",
        "    # Authentication for Colab Notebooks\n",
        "    if \"google.colab\" in sys.modules:\n",
        "        from google.colab import auth\n",
        "        auth.authenticate_user()\n",
        "        os.environ[\"GOOGLE_CLOUD_PROJECT\"] = GCP_PROJECT_ID"
      ]
    },
    {
      "cell_type": "markdown",
      "metadata": {
        "id": "4Jix595FTviS"
      },
      "source": [
        "## Load and prepare data\n",
        "Read raw data and split to train and test data sets."
      ]
    },
    {
      "cell_type": "code",
      "execution_count": null,
      "metadata": {
        "id": "5xEWEh2fTviS"
      },
      "outputs": [],
      "source": [
        "(x_train, y_train), (_, _) = tf.keras.datasets.mnist.load_data()\n",
        "\n",
        "x_train = x_train.reshape((60000, 28 * 28))\n",
        "x_train = x_train.astype('float32') / 255"
      ]
    },
    {
      "cell_type": "markdown",
      "metadata": {
        "id": "QkYgwEBgTviU"
      },
      "source": [
        "## Create a model and prepare for training\n",
        "We will create a simple model and set up a few callbacks for it."
      ]
    },
    {
      "cell_type": "code",
      "execution_count": null,
      "metadata": {
        "id": "NhL5g2YoTviU"
      },
      "outputs": [],
      "source": [
        "from tensorflow.keras import layers\n",
        "\n",
        "model = tf.keras.Sequential([\n",
        "  tf.keras.layers.Dense(512, activation='relu', input_shape=(28 * 28,)),\n",
        "  tf.keras.layers.Dropout(0.2),\n",
        "  tf.keras.layers.Dense(10, activation='softmax')\n",
        "])\n",
        "\n",
        "model.compile(loss='sparse_categorical_crossentropy',\n",
        "              optimizer=tf.keras.optimizers.Adam(),\n",
        "              metrics=['accuracy'])"
      ]
    },
    {
      "cell_type": "code",
      "execution_count": null,
      "metadata": {
        "id": "jQwNarnJTviU"
      },
      "outputs": [],
      "source": [
        "if tfc.remote():\n",
        "    # Configure Tensorboard logs\n",
        "    callbacks=[\n",
        "        tf.keras.callbacks.TensorBoard(log_dir=TENSORBOARD_LOGS_DIR),\n",
        "        tf.keras.callbacks.ModelCheckpoint(\n",
        "            MODEL_CHECKPOINT_DIR,\n",
        "            save_best_only=True),\n",
        "        tf.keras.callbacks.EarlyStopping(\n",
        "            monitor='loss',\n",
        "            min_delta =0.001,\n",
        "            patience=3)]\n",
        "\n",
        "    model.fit(x=x_train, y=y_train, epochs=100,\n",
        "              validation_split=0.2, callbacks=callbacks)\n",
        "\n",
        "    model.save(SAVED_MODEL_DIR)\n",
        "\n",
        "else:\n",
        "    # Run the training for 1 epoch and a small subset of the data to validate setup\n",
        "    model.fit(x=x_train[:100], y=y_train[:100], validation_split=0.2, epochs=1)"
      ]
    },
    {
      "cell_type": "markdown",
      "metadata": {
        "id": "44CHwtcPTviV"
      },
      "source": [
        "## Start the remote training\n",
        "\n",
        "This step will prepare your code from this notebook for remote execution and starts a remote training job on Google Cloud Platform to train the model. Once the job is submitted you can go to the next step to monitor the jobs progress via Tensorboard.\n"
      ]
    },
    {
      "cell_type": "code",
      "execution_count": null,
      "metadata": {
        "id": "I4gSaGXgTviV"
      },
      "outputs": [],
      "source": [
        "# If you are using a custom image you can install modules via requirements\n",
        "# txt file.\n",
        "with open('requirements.txt','w') as f:\n",
        "    f.write('tensorflow-cloud\\n')\n",
        "\n",
        "# Optional: Some recommended base images. If you provide none the system\n",
        "# will choose one for you.\n",
        "TF_GPU_IMAGE= \"tensorflow/tensorflow:latest-gpu\"\n",
        "TF_CPU_IMAGE= \"tensorflow/tensorflow:latest\"\n",
        "\n",
        "# Submit a single node training job using GPU.\n",
        "tfc.run(\n",
        "    distribution_strategy='auto',\n",
        "    requirements_txt='requirements.txt',\n",
        "    docker_config=tfc.DockerConfig(\n",
        "        parent_image=TF_GPU_IMAGE,\n",
        "        image_build_bucket=GCS_BUCKET\n",
        "        ),\n",
        "    chief_config=tfc.COMMON_MACHINE_CONFIGS['K80_1X'],\n",
        "    job_labels={'job': JOB_NAME}\n",
        ")"
      ]
    },
    {
      "cell_type": "markdown",
      "metadata": {
        "id": "fCN-XJCRTviV"
      },
      "source": [
        "# Training Results\n",
        "## Reconnect your Colab instance\n",
        "Most remote training jobs are long running, if you are using Colab it may time out before the training results are available. In that case rerun the following sections to reconnect and configure your Colab instance to access the training results. Run the following sections in order:\n",
        "\n",
        "1.   Import required modules\n",
        "2.   Project Configurations\n",
        "3.   Authenticating the notebook to use your Google Cloud Project\n",
        "\n",
        "## Load Tensorboard\n",
        "While the training is in progress you can use Tensorboard to view the results. Note the results will show only after your training has started. This may take a few minutes."
      ]
    },
    {
      "cell_type": "code",
      "execution_count": null,
      "metadata": {
        "id": "-dz-XpATTviV"
      },
      "outputs": [],
      "source": [
        "%load_ext tensorboard\n",
        "%tensorboard --logdir $TENSORBOARD_LOGS_DIR"
      ]
    },
    {
      "cell_type": "markdown",
      "metadata": {
        "id": "rCH2CTqygtx6"
      },
      "source": [
        "## Load your trained model"
      ]
    },
    {
      "cell_type": "code",
      "execution_count": null,
      "metadata": {
        "id": "zn_gYuJNg13Q"
      },
      "outputs": [],
      "source": [
        "trained_model = tf.keras.models.load_model(SAVED_MODEL_DIR)\n",
        "trained_model.summary()"
      ]
    }
  ],
  "metadata": {
    "colab": {
      "collapsed_sections": [
        "cIG5d4Kvls6m"
      ],
      "name": "simple_remote_training_mnist_with_tensorflow_cloud.ipynb",
      "provenance": [],
      "toc_visible": true
    },
    "kernelspec": {
      "display_name": "Python 3",
      "name": "python3"
    }
  },
  "nbformat": 4,
  "nbformat_minor": 0
}
